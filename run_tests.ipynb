{
 "cells": [
  {
   "cell_type": "code",
   "execution_count": 2,
   "metadata": {},
   "outputs": [
    {
     "name": "stdout",
     "output_type": "stream",
     "text": [
      "2.4592132568359375\n"
     ]
    }
   ],
   "source": [
    "from time import sleep\n",
    "\n",
    "from stopwatch import Stopwatch\n",
    "\n",
    "w = Stopwatch()\n",
    "sleep(2.45)\n",
    "w.stop()\n",
    "\n",
    "print(w.elapsed_seconds())"
   ]
  },
  {
   "cell_type": "code",
   "execution_count": null,
   "metadata": {},
   "outputs": [],
   "source": [
    "from time import *\n",
    "now = localtime()"
   ]
  },
  {
   "cell_type": "code",
   "execution_count": 4,
   "metadata": {},
   "outputs": [
    {
     "name": "stdout",
     "output_type": "stream",
     "text": [
      "namespace(adjustable=False, implementation='GetTickCount64()', monotonic=True, resolution=0.015625)\n",
      "namespace(adjustable=False, implementation='QueryPerformanceCounter()', monotonic=True, resolution=1e-07)\n",
      "namespace(adjustable=False, implementation='GetProcessTimes()', monotonic=True, resolution=1e-07)\n",
      "namespace(adjustable=False, implementation='GetThreadTimes()', monotonic=True, resolution=1e-07)\n",
      "namespace(adjustable=True, implementation='GetSystemTimeAsFileTime()', monotonic=False, resolution=0.015625)\n"
     ]
    }
   ],
   "source": [
    "from time import *\n",
    "\n",
    "print(get_clock_info('monotonic')) #GetTickCount\n",
    "print(get_clock_info('perf_counter')) #QueryPerformanceCounter\n",
    "print(get_clock_info('process_time')) #GetProcessTimes\n",
    "print(get_clock_info('thread_time')) #GetThreadTimes\n",
    "print(get_clock_info('time')) #GetSystemTimeAsFileTime"
   ]
  },
  {
   "cell_type": "code",
   "execution_count": 24,
   "metadata": {},
   "outputs": [
    {
     "name": "stdout",
     "output_type": "stream",
     "text": [
      "False\n",
      "658008\n",
      "50.30432434324324\n",
      "24\n",
      "0.57 3 4.56\n",
      "0.1\n",
      "0.1\n"
     ]
    }
   ],
   "source": [
    "#numbers\n",
    "import numbers as num\n",
    "print(isinstance('0',num.Number))\n",
    "import math as m\n",
    "print(m.comb(40,5))\n",
    "print(m.fabs(50.30432434324324))\n",
    "\n",
    "print(m.factorial(4.000000))\n",
    "\n",
    "(mant, exp) = m.frexp(4.56)\n",
    "print(mant,exp, mant*m.pow(2,exp))\n",
    "\n",
    "print(m.fsum([1/10]))\n",
    "print(1/10)\n"
   ]
  },
  {
   "cell_type": "code",
   "execution_count": 29,
   "metadata": {},
   "outputs": [
    {
     "data": {
      "text/plain": [
       "2"
      ]
     },
     "execution_count": 29,
     "metadata": {},
     "output_type": "execute_result"
    }
   ],
   "source": [
    "from math import *\n",
    "gcd(2,8)"
   ]
  }
 ],
 "metadata": {
  "kernelspec": {
   "display_name": "Python 3",
   "language": "python",
   "name": "python3"
  },
  "language_info": {
   "codemirror_mode": {
    "name": "ipython",
    "version": 3
   },
   "file_extension": ".py",
   "mimetype": "text/x-python",
   "name": "python",
   "nbconvert_exporter": "python",
   "pygments_lexer": "ipython3",
   "version": "3.8.0"
  },
  "orig_nbformat": 4
 },
 "nbformat": 4,
 "nbformat_minor": 2
}
