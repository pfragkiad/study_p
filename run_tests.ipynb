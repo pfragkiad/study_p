{
 "cells": [
  {
   "cell_type": "code",
   "execution_count": 2,
   "metadata": {},
   "outputs": [
    {
     "name": "stdout",
     "output_type": "stream",
     "text": [
      "2.4592132568359375\n"
     ]
    }
   ],
   "source": [
    "from time import sleep\n",
    "\n",
    "from stopwatch import Stopwatch\n",
    "\n",
    "w = Stopwatch()\n",
    "sleep(2.45)\n",
    "w.stop()\n",
    "\n",
    "print(w.elapsed_seconds())"
   ]
  },
  {
   "cell_type": "code",
   "execution_count": null,
   "metadata": {},
   "outputs": [],
   "source": [
    "from time import *\n",
    "now = localtime()"
   ]
  },
  {
   "cell_type": "code",
   "execution_count": 4,
   "metadata": {},
   "outputs": [
    {
     "name": "stdout",
     "output_type": "stream",
     "text": [
      "namespace(adjustable=False, implementation='GetTickCount64()', monotonic=True, resolution=0.015625)\n",
      "namespace(adjustable=False, implementation='QueryPerformanceCounter()', monotonic=True, resolution=1e-07)\n",
      "namespace(adjustable=False, implementation='GetProcessTimes()', monotonic=True, resolution=1e-07)\n",
      "namespace(adjustable=False, implementation='GetThreadTimes()', monotonic=True, resolution=1e-07)\n",
      "namespace(adjustable=True, implementation='GetSystemTimeAsFileTime()', monotonic=False, resolution=0.015625)\n"
     ]
    }
   ],
   "source": [
    "from time import *\n",
    "\n",
    "print(get_clock_info('monotonic')) #GetTickCount\n",
    "print(get_clock_info('perf_counter')) #QueryPerformanceCounter\n",
    "print(get_clock_info('process_time')) #GetProcessTimes\n",
    "print(get_clock_info('thread_time')) #GetThreadTimes\n",
    "print(get_clock_info('time')) #GetSystemTimeAsFileTime"
   ]
  },
  {
   "cell_type": "code",
   "execution_count": 43,
   "metadata": {},
   "outputs": [
    {
     "name": "stdout",
     "output_type": "stream",
     "text": [
      "False\n",
      "658008\n",
      "50.30432434324324\n",
      "24\n",
      "0.57 3 4.56\n",
      "0.1\n",
      "0.1\n",
      "9\n"
     ]
    }
   ],
   "source": [
    "#numbers\n",
    "import numbers as num\n",
    "print(isinstance('0',num.Number))\n",
    "import math as m\n",
    "print(m.comb(40,5))\n",
    "print(m.fabs(50.30432434324324))\n",
    "\n",
    "print(m.factorial(4.000000))\n",
    "\n",
    "(mant, exp) = m.frexp(4.56)\n",
    "print(mant,exp, mant*m.pow(2,exp))\n",
    "\n",
    "print(m.fsum([1/10]))\n",
    "print(1/10)\n",
    "\n",
    "print(3**2)\n"
   ]
  },
  {
   "cell_type": "code",
   "execution_count": 44,
   "metadata": {},
   "outputs": [
    {
     "name": "stdout",
     "output_type": "stream",
     "text": [
      "False\n",
      "True\n",
      "True\n",
      "5\n",
      "-1.0 2 2.0\n",
      "1.4142135623730951\n"
     ]
    }
   ],
   "source": [
    "from math import *\n",
    "gcd(2,8)\n",
    "isclose(5,4.9999,rel_tol=1e-3)\n",
    "print(isfinite(nan))\n",
    "print(isnan(nan))\n",
    "print(isinf(inf))\n",
    "\n",
    "print(isqrt(35))\n",
    "\n",
    "print( remainder(5,3), 5%3, fmod(5,3))\n",
    "\n",
    "print(dist((1,1),(2,2))) # works!"
   ]
  },
  {
   "cell_type": "markdown",
   "metadata": {},
   "source": [
    "## Complex numbers (cmath)"
   ]
  },
  {
   "cell_type": "code",
   "execution_count": 54,
   "metadata": {},
   "outputs": [
    {
     "name": "stdout",
     "output_type": "stream",
     "text": [
      "(1+1j)\n",
      "0.7853981633974483 1.0 1.0 (1-1j)\n",
      "2.0000000000000004 180.0\n",
      "(1.0000000000000002+1.0000000000000002j)\n",
      "1j\n"
     ]
    }
   ],
   "source": [
    "import cmath as c\n",
    "import math as m\n",
    "\n",
    "z=complex(1,1); print(z)\n",
    "print(c.phase(z),z.imag,z.real,z.conjugate())\n",
    "r,phi = c.polar(z)  # sqrt(2), pi/4\n",
    "print(r**2,m.degrees(phi*4))\n",
    "\n",
    "z1 = c.rect(r,phi)\n",
    "print(c.isclose(z,z1))\n",
    "\n",
    "print(c.sqrt(-1))"
   ]
  }
 ],
 "metadata": {
  "kernelspec": {
   "display_name": "Python 3",
   "language": "python",
   "name": "python3"
  },
  "language_info": {
   "codemirror_mode": {
    "name": "ipython",
    "version": 3
   },
   "file_extension": ".py",
   "mimetype": "text/x-python",
   "name": "python",
   "nbconvert_exporter": "python",
   "pygments_lexer": "ipython3",
   "version": "3.8.0"
  },
  "orig_nbformat": 4
 },
 "nbformat": 4,
 "nbformat_minor": 2
}
